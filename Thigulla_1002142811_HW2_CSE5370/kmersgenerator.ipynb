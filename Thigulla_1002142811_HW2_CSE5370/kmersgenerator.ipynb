{
 "cells": [
  {
   "cell_type": "code",
   "execution_count": 6,
   "id": "fb675e92",
   "metadata": {},
   "outputs": [],
   "source": [
    "#to generate the kmers\n",
    "f = open(\"1002142811.txt\", \"r\")\n",
    "reads = [line.strip() for line in f]\n",
    "f.close()\n",
    "\n",
    "k = 2\n",
    "kmers = []\n",
    "for read in reads:\n",
    "    for i in range(len(read) - k + 1):\n",
    "        kmer = read[i:i+k]\n",
    "        if kmer not in kmers:\n",
    "            kmers.append(read[i:i+k])\n",
    "\n",
    "kmers_str = \"\\n\".join(kmers)\n",
    "with open(\"kmers.txt\", \"w\") as f:\n",
    "    f.write(kmers_str)\n"
   ]
  },
  {
   "cell_type": "code",
   "execution_count": null,
   "id": "a2b862ee",
   "metadata": {},
   "outputs": [],
   "source": []
  }
 ],
 "metadata": {
  "kernelspec": {
   "display_name": "Python 3 (ipykernel)",
   "language": "python",
   "name": "python3"
  },
  "language_info": {
   "codemirror_mode": {
    "name": "ipython",
    "version": 3
   },
   "file_extension": ".py",
   "mimetype": "text/x-python",
   "name": "python",
   "nbconvert_exporter": "python",
   "pygments_lexer": "ipython3",
   "version": "3.9.13"
  }
 },
 "nbformat": 4,
 "nbformat_minor": 5
}
